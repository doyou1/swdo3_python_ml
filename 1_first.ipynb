{
 "cells": [
  {
   "cell_type": "markdown",
   "metadata": {},
   "source": [
    "## Numpy 기초\n",
    "- Numpy를 사용 : 데이터 사이언스에서 사용하는 중요한 패키지<br>\n",
    "- Numpy 다음에는 <b style=\"color:red\">Pandas</b>를 배워서 데이터 전처리 작업을 한다.\n",
    "<img src=\"https://upload.wikimedia.org/wikipedia/commons/thumb/1/1a/NumPy_logo.svg/330px-NumPy_logo.svg.png\">"
   ]
  },
  {
   "cell_type": "markdown",
   "metadata": {},
   "source": [
    "### 1. 정수자료형 처리"
   ]
  },
  {
   "cell_type": "code",
   "execution_count": 8,
   "metadata": {},
   "outputs": [],
   "source": [
    "import numpy as np"
   ]
  },
  {
   "cell_type": "code",
   "execution_count": 10,
   "metadata": {},
   "outputs": [],
   "source": [
    "math1 = 80\n",
    "math2 = 95\n",
    "math3 = 75"
   ]
  },
  {
   "cell_type": "code",
   "execution_count": 11,
   "metadata": {},
   "outputs": [],
   "source": [
    "m_sum = math1 + math2 + math3\n",
    "m_avg = m_sum / 3"
   ]
  },
  {
   "cell_type": "code",
   "execution_count": 12,
   "metadata": {},
   "outputs": [
    {
     "name": "stdout",
     "output_type": "stream",
     "text": [
      "수학 점수의 합계 : 250\n",
      "수학 점수의 평균 : 83.33333333333333\n"
     ]
    }
   ],
   "source": [
    "print(\"수학 점수의 합계 : {}\".format(m_sum))\n",
    "print(\"수학 점수의 평균 : {}\".format(m_avg))"
   ]
  },
  {
   "cell_type": "code",
   "execution_count": 13,
   "metadata": {},
   "outputs": [],
   "source": [
    "math4 = 87"
   ]
  },
  {
   "cell_type": "code",
   "execution_count": 14,
   "metadata": {},
   "outputs": [],
   "source": [
    "m_sum = math1+math2+math3+math4\n",
    "m_avg = m_sum / 4"
   ]
  },
  {
   "cell_type": "code",
   "execution_count": 15,
   "metadata": {},
   "outputs": [
    {
     "name": "stdout",
     "output_type": "stream",
     "text": [
      "수학 점수의 합계 : 337\n",
      "수학 점수의 평균 : 84.25\n"
     ]
    }
   ],
   "source": [
    "print(\"수학 점수의 합계 : {}\".format(m_sum))\n",
    "print(\"수학 점수의 평균 : {}\".format(m_avg))"
   ]
  },
  {
   "cell_type": "markdown",
   "metadata": {},
   "source": [
    "### 2. 리스트자료형으로 처리"
   ]
  },
  {
   "cell_type": "code",
   "execution_count": 35,
   "metadata": {},
   "outputs": [
    {
     "name": "stdout",
     "output_type": "stream",
     "text": [
      "[89, 95, 75]\n"
     ]
    }
   ],
   "source": [
    "mlist = [89,95,75]\n",
    "print(mlist)"
   ]
  },
  {
   "cell_type": "code",
   "execution_count": 36,
   "metadata": {},
   "outputs": [],
   "source": [
    "m_sum1 = 0\n",
    "m_avg1 = 0"
   ]
  },
  {
   "cell_type": "code",
   "execution_count": 37,
   "metadata": {},
   "outputs": [],
   "source": [
    "# for문을 이용해서 합계 평균 구하기\n",
    "for e in mlist:\n",
    "    m_sum1 += e\n",
    "\n",
    "m_avg1 = m_sum1 / len(mlist)"
   ]
  },
  {
   "cell_type": "code",
   "execution_count": 38,
   "metadata": {},
   "outputs": [
    {
     "name": "stdout",
     "output_type": "stream",
     "text": [
      "수학 점수의 합계1 : 259\n",
      "수학 점수의 평균1 : 86.33333333333333\n"
     ]
    }
   ],
   "source": [
    "print(\"수학 점수의 합계1 : {}\".format(m_sum1))\n",
    "print(\"수학 점수의 평균1 : {}\".format(m_avg1))"
   ]
  },
  {
   "cell_type": "code",
   "execution_count": 39,
   "metadata": {},
   "outputs": [
    {
     "name": "stdout",
     "output_type": "stream",
     "text": [
      "[89, 95, 75, 87]\n"
     ]
    }
   ],
   "source": [
    "mlist.append(87)\n",
    "\n",
    "print(mlist)"
   ]
  },
  {
   "cell_type": "code",
   "execution_count": 40,
   "metadata": {},
   "outputs": [],
   "source": [
    "m_sum1 = 0\n",
    "m_avg1 = 0\n",
    "# for문을 이용해서 합계 평균 구하기\n",
    "for e in mlist:\n",
    "    m_sum1 += e\n",
    "\n",
    "m_avg1 = m_sum1 / len(mlist)"
   ]
  },
  {
   "cell_type": "code",
   "execution_count": 41,
   "metadata": {},
   "outputs": [
    {
     "name": "stdout",
     "output_type": "stream",
     "text": [
      "수학 점수의 합계1 : 346\n",
      "수학 점수의 평균1 : 86.5\n"
     ]
    }
   ],
   "source": [
    "print(\"수학 점수의 합계1 : {}\".format(m_sum1))\n",
    "print(\"수학 점수의 평균1 : {}\".format(m_avg1))"
   ]
  },
  {
   "cell_type": "markdown",
   "metadata": {},
   "source": [
    "####  3) 문제발생 : 채점에 문제가 생겨 모든 학생의 점수를 모두 1점씩 상향해서 올려줘야하는 일이 발생"
   ]
  },
  {
   "cell_type": "code",
   "execution_count": 1,
   "metadata": {},
   "outputs": [
    {
     "name": "stdout",
     "output_type": "stream",
     "text": [
      "수학 점수 합계 : 346\n",
      "수학 점수 평균 : 86.5\n"
     ]
    }
   ],
   "source": [
    "mlist = [89, 95, 75, 87]\n",
    "m_sum1 = 0\n",
    "m_avg1 = 0\n",
    "\n",
    "# for문을 이용해서 합계 평균 구하기\n",
    "for e in mlist:\n",
    "    m_sum1 += e\n",
    "    \n",
    "m_avg1 = m_sum1 / len(mlist)\n",
    "\n",
    "print(\"수학 점수 합계 : {}\".format(m_sum1))\n",
    "print(\"수학 점수 평균 : {}\".format(m_avg1))"
   ]
  },
  {
   "cell_type": "code",
   "execution_count": 2,
   "metadata": {},
   "outputs": [
    {
     "name": "stdout",
     "output_type": "stream",
     "text": [
      "[90, 96, 76, 88]\n"
     ]
    }
   ],
   "source": [
    "### 문제 해결 -> 1점 더하기\n",
    "mlist_new = [e + 1 for e in mlist]\n",
    "print(mlist_new)"
   ]
  },
  {
   "cell_type": "code",
   "execution_count": 3,
   "metadata": {},
   "outputs": [
    {
     "name": "stdout",
     "output_type": "stream",
     "text": [
      "수학 점수 합계 2 : 350\n",
      "수학 점수 평균 2 : 87.5\n"
     ]
    }
   ],
   "source": [
    "# for문을 이용해서 합계 평균 구하기\n",
    "m_sum2 = 0\n",
    "m_avg2 = 0\n",
    "\n",
    "for e in mlist_new:\n",
    "    m_sum2 += e\n",
    "\n",
    "m_avg2 = m_sum2 / len(mlist_new)\n",
    "\n",
    "print(\"수학 점수 합계 2 : {}\".format(m_sum2))\n",
    "print(\"수학 점수 평균 2 : {}\".format(m_avg2))"
   ]
  },
  {
   "cell_type": "markdown",
   "metadata": {},
   "source": [
    "### 4) 학생수의 증가로 3반으로 증가했다고 가정 ==> 한 반에 4명씩 3반이 생겼다!\n",
    "\n",
    "- 1반 : 10, 20, 30, 40\n",
    "- 2반 : 21, 22, 23, 24\n",
    "- 3반 : 31, 32, 33, 34"
   ]
  },
  {
   "cell_type": "code",
   "execution_count": 44,
   "metadata": {},
   "outputs": [
    {
     "name": "stdout",
     "output_type": "stream",
     "text": [
      "[[10, 20, 30, 40], [21, 22, 23, 24], [31, 32, 33, 34]]\n",
      "[[11, 21, 31, 41], [22, 23, 24, 25], [32, 33, 34, 35]]\n"
     ]
    }
   ],
   "source": [
    "nested_mlist = [[10, 20, 30, 40],[21, 22, 23, 24],[31, 32, 33, 34]]\n",
    "\n",
    "nested_mlist_new = []\n",
    "\n",
    "#for tmp in nested_mlist:\n",
    "#    nested_mlist_new.append([e+1 for e in tmp]) \n",
    "\n",
    "nested_mlist_new = [[e+1 for e in tmp] for tmp in nested_mlist]\n",
    "\n",
    "print(nested_mlist)\n",
    "print(nested_mlist_new)"
   ]
  },
  {
   "cell_type": "markdown",
   "metadata": {},
   "source": [
    "### Numpy 패키지로 해결하기\n",
    "- 파이썬으로 만든 수치계산 패키지(데이터 분석)\n",
    "- 내부는 C로 만들어져 있어서 계산 속도가 엄청 빠르다.\n",
    "- 데이터 타입을 한가지만 허용\n",
    "- I = [1,1.5,'hong',[1,2,3,4]] 은 안됨\n",
    "- Array 형태의 데이터 처리 : 선형대수학"
   ]
  },
  {
   "cell_type": "code",
   "execution_count": 46,
   "metadata": {},
   "outputs": [
    {
     "name": "stdout",
     "output_type": "stream",
     "text": [
      "[1, 1.5, 'hong', [1, 2, 3, 4]]\n"
     ]
    }
   ],
   "source": [
    "l = [1,1.5,\"hong\",[1,2,3,4]] #파이썬 리스트\n",
    "print(l)"
   ]
  },
  {
   "cell_type": "code",
   "execution_count": 47,
   "metadata": {},
   "outputs": [],
   "source": [
    "import numpy as np # 파이썬 배열을 이용해서 numpy 배열을 만듬"
   ]
  },
  {
   "cell_type": "code",
   "execution_count": 49,
   "metadata": {},
   "outputs": [
    {
     "name": "stdout",
     "output_type": "stream",
     "text": [
      "1.18.1\n"
     ]
    }
   ],
   "source": [
    "print(np.__version__)"
   ]
  },
  {
   "cell_type": "code",
   "execution_count": 82,
   "metadata": {},
   "outputs": [
    {
     "name": "stdout",
     "output_type": "stream",
     "text": [
      "10\n",
      "int32\n",
      "0\n",
      "()\n",
      "4\n",
      "1\n"
     ]
    }
   ],
   "source": [
    "# 단일 값 : 스칼라\n",
    "a = np.array(10)\n",
    "print(a)\n",
    "print(a.dtype) # a의 타입, type(a)\n",
    "print(a.ndim) # a의 차원\n",
    "print(a.shape) # ?행, ?열\n",
    "print(a.nbytes) # 4byte\n",
    "print(a.size) # 크기?"
   ]
  },
  {
   "cell_type": "code",
   "execution_count": 78,
   "metadata": {},
   "outputs": [
    {
     "name": "stdout",
     "output_type": "stream",
     "text": [
      "[1 2 3 4]\n",
      "int32\n",
      "1\n",
      "(4,)\n",
      "16\n",
      "4\n"
     ]
    }
   ],
   "source": [
    "# 1차원 배열\n",
    "b = np.array([1,2,3,4])\n",
    "print(b)\n",
    "print(b.dtype)\n",
    "print(b.ndim)\n",
    "print(b.shape)\n",
    "print(b.nbytes)\n",
    "print(b.size)"
   ]
  },
  {
   "cell_type": "code",
   "execution_count": 79,
   "metadata": {},
   "outputs": [
    {
     "name": "stdout",
     "output_type": "stream",
     "text": [
      "[[1 2 3]\n",
      " [4 5 6]\n",
      " [7 8 9]]\n",
      "int32\n",
      "2\n",
      "(3, 3)\n",
      "36\n",
      "9\n"
     ]
    }
   ],
   "source": [
    "# 2차원 배열 (3 x 2)\n",
    "c = np.array([[1,2,3],[4,5,6],[7,8,9]])\n",
    "print(c)\n",
    "print(c.dtype)\n",
    "print(c.ndim)\n",
    "print(c.shape)\n",
    "print(c.nbytes)\n",
    "print(c.size)"
   ]
  },
  {
   "cell_type": "code",
   "execution_count": 80,
   "metadata": {
    "scrolled": true
   },
   "outputs": [
    {
     "name": "stdout",
     "output_type": "stream",
     "text": [
      "[[[ 1  2  3]\n",
      "  [ 4  5  6]]\n",
      "\n",
      " [[ 7  8  9]\n",
      "  [10 11 12]]\n",
      "\n",
      " [[13 14 15]\n",
      "  [16 17 18]]]\n",
      "int32\n",
      "3\n",
      "(3, 2, 3)\n",
      "72\n",
      "18\n"
     ]
    }
   ],
   "source": [
    "# 3차원 배열 (3 x 2 x 3)\n",
    "d = np.array(\n",
    "    [\n",
    "        [\n",
    "            [1,2,3],[4,5,6]\n",
    "        ],\n",
    "        [\n",
    "            [7,8,9],[10,11,12]\n",
    "        ],\n",
    "        [\n",
    "            [13,14,15],[16,17,18]\n",
    "        ]\n",
    "    ])\n",
    "print(d)\n",
    "print(d.dtype)\n",
    "print(d.ndim)\n",
    "print(d.shape)\n",
    "print(d.nbytes)\n",
    "print(d.size)"
   ]
  },
  {
   "cell_type": "code",
   "execution_count": 94,
   "metadata": {},
   "outputs": [
    {
     "name": "stdout",
     "output_type": "stream",
     "text": [
      "[1. 4. 5. 8.]\n",
      "float64\n",
      "1\n",
      "(4,)\n",
      "32\n",
      "4\n"
     ]
    }
   ],
   "source": [
    "# numpy는 배열에 다른 타입의 데이터를 허용하지 않음\n",
    "test_arr = np.array([1,4,\"5\",\"8\"], dtype=np.float)\n",
    "\n",
    "print(test_arr)\n",
    "print(test_arr.dtype)\n",
    "print(test_arr.ndim)\n",
    "print(test_arr.shape)\n",
    "print(test_arr.nbytes)\n",
    "print(test_arr.size)"
   ]
  },
  {
   "cell_type": "code",
   "execution_count": 101,
   "metadata": {},
   "outputs": [
    {
     "name": "stdout",
     "output_type": "stream",
     "text": [
      "[1 2 3 4 5 6 7 8 9]\n",
      "[ 1  2  3  4  5  6  7  8  9 10]\n"
     ]
    }
   ],
   "source": [
    "test_arr1 = np.array(range(1,10), dtype=np.int32)\n",
    "test_arr2 = np.arange(1,11) # 이상,미만\n",
    "print(test_arr1)\n",
    "print(test_arr2)"
   ]
  },
  {
   "cell_type": "code",
   "execution_count": 102,
   "metadata": {},
   "outputs": [
    {
     "name": "stdout",
     "output_type": "stream",
     "text": [
      "[ 1.   1.5  2.   2.5  3.   3.5  4.   4.5  5.   5.5  6.   6.5  7.   7.5\n",
      "  8.   8.5  9.   9.5 10.  10.5]\n",
      "개수 : 20\n"
     ]
    }
   ],
   "source": [
    "test_arr3 = np.arange(1,11,0.5) # arange 함수는 1차원의 배열 생성\n",
    "print(test_arr3)\n",
    "print(\"개수 : {}\".format(test_arr3.size))"
   ]
  },
  {
   "cell_type": "code",
   "execution_count": 107,
   "metadata": {},
   "outputs": [
    {
     "name": "stdout",
     "output_type": "stream",
     "text": [
      "[[ 1.   1.5]\n",
      " [ 2.   2.5]\n",
      " [ 3.   3.5]\n",
      " [ 4.   4.5]\n",
      " [ 5.   5.5]\n",
      " [ 6.   6.5]\n",
      " [ 7.   7.5]\n",
      " [ 8.   8.5]\n",
      " [ 9.   9.5]\n",
      " [10.  10.5]]\n",
      "[[ 1.   1.5  2.   2.5  3. ]\n",
      " [ 3.5  4.   4.5  5.   5.5]\n",
      " [ 6.   6.5  7.   7.5  8. ]\n",
      " [ 8.5  9.   9.5 10.  10.5]]\n"
     ]
    }
   ],
   "source": [
    "test_arr4 = np.arange(1,11,0.5)\n",
    "\n",
    "test_arr4 = test_arr4.reshape(10,2)\n",
    "print(test_arr4)\n",
    "\n",
    "test_arr4 = test_arr4.reshape(4,5)\n",
    "print(test_arr4)"
   ]
  },
  {
   "cell_type": "code",
   "execution_count": null,
   "metadata": {},
   "outputs": [],
   "source": []
  }
 ],
 "metadata": {
  "kernelspec": {
   "display_name": "Python 3",
   "language": "python",
   "name": "python3"
  },
  "language_info": {
   "codemirror_mode": {
    "name": "ipython",
    "version": 3
   },
   "file_extension": ".py",
   "mimetype": "text/x-python",
   "name": "python",
   "nbconvert_exporter": "python",
   "pygments_lexer": "ipython3",
   "version": "3.7.6"
  }
 },
 "nbformat": 4,
 "nbformat_minor": 4
}
